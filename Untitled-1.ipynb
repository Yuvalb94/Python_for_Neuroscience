{
 "cells": [
  {
   "cell_type": "code",
   "execution_count": null,
   "metadata": {},
   "outputs": [],
   "source": [
    "def function_a(a, b):\n",
    "    \"\"\"_summary_\n",
    "\n",
    "    Args:\n",
    "        a (_type_): _description_\n",
    "        b (_type_): _description_\n",
    "    \"\"\"\n"
   ]
  }
 ],
 "metadata": {
  "language_info": {
   "name": "python"
  }
 },
 "nbformat": 4,
 "nbformat_minor": 2
}
