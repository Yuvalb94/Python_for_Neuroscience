{
  "nbformat": 4,
  "nbformat_minor": 0,
  "metadata": {
    "colab": {
      "provenance": []
    },
    "kernelspec": {
      "name": "python3",
      "display_name": "Python 3"
    },
    "language_info": {
      "name": "python"
    }
  },
  "cells": [
    {
      "cell_type": "code",
      "execution_count": 5,
      "metadata": {
        "colab": {
          "base_uri": "https://localhost:8080/"
        },
        "id": "sQcqCSQrfwPb",
        "outputId": "c71208aa-c6aa-4b0b-95b4-77c6e414a603"
      },
      "outputs": [
        {
          "output_type": "stream",
          "name": "stdout",
          "text": [
            "t a b l e \n",
            "['t', 'a', 'b', 'l', 'e']\n"
          ]
        }
      ],
      "source": [
        "def enigma_code(letters, table):\n",
        "    \"\"\"Encode\\decode the letters using the table.\n",
        "\n",
        "    If a letter in letters isn't found in table,\n",
        "    None is returned.\n",
        "\n",
        "    Parameters\n",
        "    ----------\n",
        "    letters : iterable\n",
        "        The letters to encode or decode\n",
        "    table : dictionary\n",
        "        A real \"dictionary\" which defines the translation\n",
        "        from one letter to the other\n",
        "\n",
        "    Returns\n",
        "    -------\n",
        "    result : list\n",
        "        A list of translated letters\n",
        "    \"\"\"\n",
        "    result = []\n",
        "    for letter in letters:\n",
        "        if letter in table:\n",
        "            result.append(table.get(letter))\n",
        "        else:\n",
        "            result.append(None)\n",
        "\n",
        "\n",
        "    return result\n",
        "\n",
        "table = {'a':'t', 'b':'f', 'c':'e', 'd':'a', 'e':'h', 'f':'l', 'g':'r', 'h':'b'}\n",
        "letters = ['a', 'd', 'h', 'f', 'c']\n",
        "res = enigma_code(letters, table)\n",
        "for let in res:\n",
        "    print(let, end = ' ')\n",
        "print()\n",
        "print([let for let in res])"
      ]
    },
    {
      "cell_type": "code",
      "source": [
        "def slice_list(list):\n",
        "    \"\"\"\n",
        "    This function takes a list, slices it in half and returns the two sub-lists.\n",
        "    If the list has an odd numer of elements, the first half will be the bigger one.\n",
        "\n",
        "    \"\"\"\n",
        "    slice_idx = len(list) // 2 + 1\n",
        "    list1 = list[:slice_idx]\n",
        "    list2 = list[slice_idx:]\n",
        "    print(f\"list 1: {list1}\")\n",
        "    print(f\"list 2: {list2}\")\n",
        "    return list1, list2\n",
        "\n",
        "my_list = [1, 't', 56, 4.4, True, 'ttt', 7, 1, True, 'True', 1]\n",
        "\n",
        "slice_list(my_list)"
      ],
      "metadata": {
        "colab": {
          "base_uri": "https://localhost:8080/"
        },
        "id": "Opv-wtkJhVWd",
        "outputId": "01cc65c6-7f71-4f6e-b280-f417b59e5066"
      },
      "execution_count": 13,
      "outputs": [
        {
          "output_type": "stream",
          "name": "stdout",
          "text": [
            "list 1: [1, 't', 56, 4.4, True, 'ttt']\n",
            "list 2: [7, 1, True, 'True', 1]\n"
          ]
        },
        {
          "output_type": "execute_result",
          "data": {
            "text/plain": [
              "([1, 't', 56, 4.4, True, 'ttt'], [7, 1, True, 'True', 1])"
            ]
          },
          "metadata": {},
          "execution_count": 13
        }
      ]
    }
  ]
}