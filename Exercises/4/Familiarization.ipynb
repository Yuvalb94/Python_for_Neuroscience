{
 "cells": [
  {
   "cell_type": "markdown",
   "id": "d9316a3d",
   "metadata": {},
   "source": [
    "Create two random 3D arrays, at least 3x3x3 in size. The first should have random integers between 0 and 100, while the second should contain floating points numbers drawn from the normal distribution, with mean -1 and standard deviation of 2\n",
    "\n",
    "What are the default datatypes of integer and floating-point arrays in NumPy?"
   ]
  },
  {
   "cell_type": "code",
   "execution_count": 15,
   "id": "84ebc6d0",
   "metadata": {},
   "outputs": [
    {
     "name": "stdout",
     "output_type": "stream",
     "text": [
      "[[[9 8 5]\n",
      "  [9 0 4]]]\n",
      "[[9. 8. 5.]\n",
      " [9. 0. 4.]]\n",
      "[[9.  4.  4.5]]\n",
      "[[7.33333333 4.33333333]]\n"
     ]
    },
    {
     "data": {
      "text/plain": [
       "array([[[-3.63562438, -1.77063624, -1.33167038],\n",
       "        [-4.14833071, -0.97586423,  0.5258932 ]]])"
      ]
     },
     "execution_count": 15,
     "metadata": {},
     "output_type": "execute_result"
    }
   ],
   "source": [
    "import numpy as np\n",
    "low = 0\n",
    "high = 10\n",
    "size = 1, 2, 3\n",
    "array_1 = np.random.randint(low, high, size)\n",
    "print(array_1)\n",
    "print(np.mean(array_1, axis=0))\n",
    "print(np.mean(array_1, axis=1))\n",
    "print(np.mean(array_1, axis=2))\n",
    "array_1.dtype\n",
    "array_2 = np.random.randn(*size) * 2 - 1\n",
    "array_2"
   ]
  },
  {
   "cell_type": "markdown",
   "id": "773b0d8c",
   "metadata": {},
   "source": [
    "2. Center the distribution of the first integer array around 0, with minimal and maximal values ranging between -1 and 1."
   ]
  },
  {
   "cell_type": "code",
   "execution_count": null,
   "id": "b6c07067",
   "metadata": {},
   "outputs": [],
   "source": [
    "middle = (array_1.max() - array_1.min()) / 2\n",
    "centered_array_1 = (array_1 - middle) / middle\n",
    "centered_array_1"
   ]
  },
  {
   "cell_type": "markdown",
   "id": "b80c4c28",
   "metadata": {},
   "source": [
    "3. Calculate the mean and standard deviation of each array along the last axis, and the sum along the second axis. Use the object-oriented implementation of these functions."
   ]
  },
  {
   "cell_type": "code",
   "execution_count": null,
   "id": "848d7f93",
   "metadata": {},
   "outputs": [],
   "source": []
  }
 ],
 "metadata": {
  "kernelspec": {
   "display_name": ".venv",
   "language": "python",
   "name": "python3"
  },
  "language_info": {
   "codemirror_mode": {
    "name": "ipython",
    "version": 3
   },
   "file_extension": ".py",
   "mimetype": "text/x-python",
   "name": "python",
   "nbconvert_exporter": "python",
   "pygments_lexer": "ipython3",
   "version": "3.12.3"
  }
 },
 "nbformat": 4,
 "nbformat_minor": 5
}
