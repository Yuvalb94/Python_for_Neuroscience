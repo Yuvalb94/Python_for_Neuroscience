{
 "cells": [
  {
   "cell_type": "markdown",
   "metadata": {},
   "source": [
    "Exercise 1.1"
   ]
  },
  {
   "cell_type": "code",
   "execution_count": 12,
   "metadata": {
    "colab": {
     "base_uri": "https://localhost:8080/"
    },
    "executionInfo": {
     "elapsed": 16,
     "status": "ok",
     "timestamp": 1742812371985,
     "user": {
      "displayName": "Yuval Bonneh",
      "userId": "17788567699436738946"
     },
     "user_tz": -120
    },
    "id": "wO4vsalVp8FE",
    "outputId": "ee81a297-f1ac-41fe-9351-efcfc1e0abf7"
   },
   "outputs": [
    {
     "name": "stdout",
     "output_type": "stream",
     "text": [
      "The first number that is greater than the sum of its neighbors is 6 and its index is 3.\n"
     ]
    }
   ],
   "source": [
    "def first_numer_to(list):\n",
    "  for i, num in enumerate(list):\n",
    "    if i==(len(list)-1):\n",
    "      before = list[i-1]\n",
    "      after = list[0]\n",
    "    else:\n",
    "      before = list[i-1]\n",
    "      after = list[i+1]\n",
    "    if num > (before + after):\n",
    "      return (i, num)\n",
    "  print(\"no number in the list in greater than the sum of its neighbors.\")\n",
    "\n",
    "my_list = [3, 3, 4, 6, 1]\n",
    "index, number = first_numer_to(my_list)\n",
    "print(f\"The first number that is greater than the sum of its neighbors is {number} and its index is {index}.\")"
   ]
  },
  {
   "cell_type": "markdown",
   "metadata": {},
   "source": [
    "Exercise 1.2 \n",
    "Write a function that receives an iterable of full subject names (first name and then last name) and returns a dictionary of nested dictionaries, wherein each key is in the format “sub-i” and each value is a dictionary containing the keys \"first_name\" and \"last_name\", as well as the corresponding values.\n",
    "\n",
    "For example:\n",
    "\n",
    "subjects = [\"Freddie Mercury\", \"Robert Plant\"]\n",
    "\n",
    "parse_subject_names(subjects)\n",
    "\n",
    "{'sub-0': {'first_name': 'Freddie', 'last_name': 'Mercury'},\n",
    "\n",
    " 'sub-1': {'first_name': 'Robert', 'last_name': 'Plant'}}\n"
   ]
  },
  {
   "cell_type": "code",
   "execution_count": null,
   "metadata": {},
   "outputs": [],
   "source": [
    "def split_string(string)\n",
    "\n",
    "\n",
    "def parse_subjects_names(subjects):\n",
    "\n",
    "\n",
    "    "
   ]
  }
 ],
 "metadata": {
  "colab": {
   "authorship_tag": "ABX9TyNirLyjG0gkpJ7Dp5Rnb6a+",
   "provenance": []
  },
  "kernelspec": {
   "display_name": "Python 3",
   "name": "python3"
  },
  "language_info": {
   "name": "python"
  }
 },
 "nbformat": 4,
 "nbformat_minor": 0
}
